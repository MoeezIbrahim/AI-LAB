{
 "cells": [
  {
   "cell_type": "code",
   "execution_count": null,
   "id": "ee77d32a",
   "metadata": {},
   "outputs": [],
   "source": [
    "num=int (input(\"Enter a number: \"))\n",
    "print(\"\\nmultiplication table of\",num)\n",
    "print(\"-\"*30)   \n",
    "for i in range(1,11):\n",
    "    print(num,'x',i,'=',num*i)  \n",
    "    "
   ]
  },
  {
   "cell_type": "code",
   "execution_count": null,
   "id": "b58ce766",
   "metadata": {},
   "outputs": [],
   "source": [
    "num=int (input(\"Enter a number \"))\n",
    "if num<=1:\n",
    "    print (\"number is not a prime nmber \")\n",
    "else:\n",
    "    is_prime =True\n",
    "for i in range(2,int (num**0.5)+1):\n",
    "    if num%i==0:\n",
    "        is_prime=False\n",
    "        break\n",
    "\n",
    "if is_prime:\n",
    "    print(num,\"is a prime number \")\n",
    "else:\n",
    "    print (num,\"is not a prime number\")"
   ]
  },
  {
   "cell_type": "code",
   "execution_count": null,
   "id": "a3a057a7",
   "metadata": {},
   "outputs": [],
   "source": [
    "i=1\n",
    "while i<=10:\n",
    "    print(i)\n",
    "    i+=1\n",
    "    "
   ]
  },
  {
   "cell_type": "code",
   "execution_count": null,
   "id": "02db2bdd",
   "metadata": {},
   "outputs": [],
   "source": [
    "i=2\n",
    "while i<=20:\n",
    "    print(i)\n",
    "    i=i+2\n"
   ]
  },
  {
   "cell_type": "code",
   "execution_count": null,
   "id": "23d56873",
   "metadata": {},
   "outputs": [],
   "source": [
    "num = int(input(\"Enter a number: \"))\n",
    "digit_sum = 0\n",
    "temp = num\n",
    "while temp > 0:\n",
    "    digit = temp % 10\n",
    "    digit_sum += digit\n",
    "    temp //= 10\n",
    "if num % digit_sum == 0:\n",
    "    print(f\"{num} is a Harshad number.\")\n",
    "else:\n",
    "    print(f\"{num} is not a Harshad number.\")    "
   ]
  }
 ],
 "metadata": {
  "kernelspec": {
   "display_name": "Python 3",
   "language": "python",
   "name": "python3"
  },
  "language_info": {
   "name": "python",
   "version": "3.13.2"
  }
 },
 "nbformat": 4,
 "nbformat_minor": 5
}
