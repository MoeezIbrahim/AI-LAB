{
 "cells": [
  {
   "cell_type": "code",
   "execution_count": null,
   "id": "6e8f8642",
   "metadata": {},
   "outputs": [],
   "source": [
    "strings=['abc','xyz','aba','1221','xyzzyx','aa','122']\n",
    "count=0\n",
    "for s in strings:\n",
    "    if len(s)>=2 and s[0]==s[-1]:\n",
    "        count+=1\n",
    "        print(\"Number of strings:\",count)\n",
    "        "
   ]
  },
  {
   "cell_type": "code",
   "execution_count": null,
   "id": "ebc0b81e",
   "metadata": {},
   "outputs": [],
   "source": [
    "num=(1,2,4,2,6)\n",
    "sum_num=sum(num)\n",
    "product_num=1\n",
    "for n in num:\n",
    "    product_num*=n\n",
    "    print(\"sum of numbers:\",sum_num)\n",
    "    print(\"product of numbers:\",product_num)"
   ]
  },
  {
   "cell_type": "code",
   "execution_count": null,
   "id": "8005f64c",
   "metadata": {},
   "outputs": [],
   "source": [
    "numbers=[1,2,4,2,6]\n",
    "largest=max(numbers)\n",
    "print(\"largest number is:\",largest)\n"
   ]
  },
  {
   "cell_type": "code",
   "execution_count": null,
   "id": "b2d7435f",
   "metadata": {},
   "outputs": [],
   "source": [
    "L=[(),(),(\"\",),('a','b'),('a','b','c'),('d')]\n",
    "result=[t for t in L if t]\n",
    "print(\"Result=\",result)"
   ]
  },
  {
   "cell_type": "code",
   "execution_count": null,
   "id": "6edc9315",
   "metadata": {},
   "outputs": [],
   "source": [
    "n= int(input(\"Enter a number:\"))\n",
    "result={}\n",
    "for x in range(1,n+1):\n",
    " result[str(x)]=x*x\n",
    "print(result)\n"
   ]
  },
  {
   "cell_type": "code",
   "execution_count": null,
   "id": "058863fa",
   "metadata": {},
   "outputs": [],
   "source": [
    "digits_dict={'0':'zero','1':'one','2':'two','3':'three','4':'four','5':'five','6':'six','7':'seven','8':'eight','9':'nine'}\n",
    "num=input(\"Enter a number:\")\n",
    "result=[]\n",
    "for digit in num:\n",
    "    if digit in digits_dict:\n",
    "        result.append(digits_dict[digit])\n",
    "    else:\n",
    "        result.append('!')\n",
    "print(result)"
   ]
  }
 ],
 "metadata": {
  "kernelspec": {
   "display_name": "Python 3",
   "language": "python",
   "name": "python3"
  },
  "language_info": {
   "name": "python",
   "version": "3.13.2"
  }
 },
 "nbformat": 4,
 "nbformat_minor": 5
}
